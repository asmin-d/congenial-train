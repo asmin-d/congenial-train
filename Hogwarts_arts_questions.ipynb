{
 "cells": [
  {
   "cell_type": "code",
   "execution_count": null,
   "metadata": {},
   "outputs": [],
   "source": [
    "arts = ['Маховик Времени', 'Сквозное зеркало', 'Сумка с чарами незримого расширения', 'Мантия-невидимка']\n",
    "arts_points = [0, 0, 0, 0]\n",
    "max_arts_points = [9, 6, 7, 7]       "
   ]
  },
  {
   "cell_type": "code",
   "execution_count": null,
   "metadata": {},
   "outputs": [],
   "source": [
    "questions_list = [\n",
    "('Часто ли ты ощущаешь нехватку времени? (Ответь \"часто\" или \"редко\")',\n",
    "    {'часто': [1, 0, 0, 0],\n",
    "    'редко': [0, 0, 0, 0]}\n",
    "),\n",
    "('Часто испытываешь усталость в больших и шумных компаниях? (Ответь \"часто\" или \"редко\")', \n",
    "    {'часто': [0, 0, 0, 1], \n",
    "    'редко': [0, 0, 0, 0]}\n",
    "    ),\n",
    "    \n",
    "('Часто забываешь дома какую-нибудь важную вещь? (Ответь \"часто\" или \"редко\")',\n",
    "    {'часто': [1, 0, 1, 0], \n",
    "    'редко': [0, 0, 0, 0]}\n",
    "    ),\n",
    "('Как бы ты описал(а) идеальный отдых? (Ответь \"обширная культурная программа\", \"отдых с друзьями\", \"отель all inclusive\" или \"релакс на природе\")',\n",
    "    {'обширная культурная программа': [1, 0, 0, 0], \n",
    "    'отдых с друзьями': [0, 1, 0, 0], \n",
    "    'отель all inclusive': [0, 0, 1, 0], \n",
    "    'релакс на природе': [0, 0, 0, 1]}\n",
    "     ),\n",
    "('В кругу знакомых ты чувствуешь себя... (Ответь \"радостно\", \"спокойно\", \"раздражительно\" или \"энергично\")',  \n",
    "    {'радостно': [0, 1, 0, 0],                                                                                 \n",
    "     'спокойно': [1, 0, 0, 0], \n",
    "     'раздражительно': [0, 0, 0, 1], \n",
    "     'энергично': [0, 0, 1, 0]}\n",
    "    ),\n",
    "\n",
    "('В свободное время ты предпочтёшь... (Ответь \"прочитать новую книгу\", \"провести время с друзьями\" \"устроить шоппинг\" или \"погулять в парке\")', \n",
    "    {'прочитать новую книгу': [1, 0, 0, 0], \n",
    "    'провести время с друзьями': [0, 1, 0, 0], \n",
    "    'устроить шоппинг': [0, 0, 1, 0], \n",
    "    'погулять в парке': [0, 0, 0, 1]}\n",
    "),\n",
    "\n",
    "('Ты предпочитаешь работать в одиночку или в команде? (Ответь \"в одиночку\" или \"в команде\")', \n",
    "    {'в одиночку': [1, 0, 0, 1], \n",
    "     'в команде': [0, 1, 1, 0]}\n",
    "    ),\n",
    "('В свой День рождения ты... (Ответь \"устрою большую вечеринку\", \"устрою небольшой праздник\" или \"я не праздную\")',\n",
    "    {'устрою большую вечеринку': [0, 0, 1, 0], \n",
    "     'устрою небольшой праздник': [1, 1, 0, 0], \n",
    "     'я не праздную': [0, 0, 0, 1]}\n",
    "    ),\n",
    "('Случалось ли тебе работать на выходных? (Ответь \"да\" или \"нет\")', \n",
    "    {'да': [1, 0, 0, 0], \n",
    "     'нет': [0, 0, 0, 0]}\n",
    "    ),\n",
    "\n",
    "('Твой стиль в одежде скорее... (Ответь \"официальный\" или \"повседневный\")', \n",
    "    {'официальный': [1, 0, 1, 0], \n",
    "    'повседневный': [0, 1, 0, 1]}\n",
    "    )]"
   ]
  },
  {
   "cell_type": "code",
   "execution_count": null,
   "metadata": {},
   "outputs": [],
   "source": [
    "print('Привет! Этот тест определит, какой артефакт из вселенной Гарри Поттера пригодится тебе больше всего.')\n",
    "print('-'*15)\n",
    "name = input('Давай познакомимся для начала! Как тебя зовут?')\n",
    "sogl = input(f'Добро пожаловать, {name}! Готов(а) начать тест? (Ответь \"да\" или \"нет\")').lower()\n",
    "while sogl == 'нет':\n",
    "    sogl = input('Готов(а) начать? (Ответь \"да\" или \"нет\")').lower()\n",
    "guess = input('А как ты думаешь, какой артефакт тебе подойдёт? Ты можешь перечислить несколько вариантов через запятую с пробелом.').lower().split(', ')"
   ]
  },
  {
   "cell_type": "code",
   "execution_count": null,
   "metadata": {},
   "outputs": [],
   "source": [
    "print('Сейчас я задам тебе несколько вопросов. Ответь на них - и узнаешь, какой артефакт тебе больше всего подходит!')\n",
    "print('-'*10)\n",
    "for questions in range(len(questions_list)):\n",
    "    now_question = questions_list[questions][0]\n",
    "    print(now_question)\n",
    "    \n",
    "    answer_variants = questions_list[questions][1]\n",
    "    user_answer = ''\n",
    "    \n",
    "    while user_answer not in answer_variants.keys():\n",
    "        user_answer = input().lower()\n",
    "        \n",
    "    addition = answer_variants[user_answer] \n",
    "    for i in range(len(addition)):\n",
    "        arts_points[i] += addition[i]    "
   ]
  },
  {
   "cell_type": "code",
   "execution_count": null,
   "metadata": {},
   "outputs": [],
   "source": [
    "arts_final_points = []"
   ]
  },
  {
   "cell_type": "code",
   "execution_count": null,
   "metadata": {},
   "outputs": [],
   "source": [
    "for i in range(len(arts_points)):\n",
    "    koef = int(arts_points[i])/int(max_arts_points[i])\n",
    "    arts_final_points.append(koef)"
   ]
  },
  {
   "cell_type": "code",
   "execution_count": null,
   "metadata": {},
   "outputs": [],
   "source": [
    "final_art_point = max(arts_final_points)\n",
    "for i in range(len(arts_final_points)):\n",
    "    if arts_final_points[i] == final_art_point:\n",
    "        final_art_subject = arts[i]"
   ]
  },
  {
   "cell_type": "code",
   "execution_count": null,
   "metadata": {},
   "outputs": [],
   "source": [
    "print(f'Поздравляю, тест пройден! Артефакт, который больше всего тебе подходит - {final_art_subject}!')\n",
    "final_art_subject = final_art_subject.lower()\n",
    "if final_art_subject not in guess:\n",
    "    print('К сожалению, ты не смог(ла) угадать свой артефакт.')\n",
    "else:\n",
    "    print('Поздравляю, ты смог(ла) угадать свой артефакт!')"
   ]
  }
 ],
 "metadata": {
  "kernelspec": {
   "display_name": "Python 3",
   "language": "python",
   "name": "python3"
  },
  "language_info": {
   "codemirror_mode": {
    "name": "ipython",
    "version": 3
   },
   "file_extension": ".py",
   "mimetype": "text/x-python",
   "name": "python",
   "nbconvert_exporter": "python",
   "pygments_lexer": "ipython3",
   "version": "3.8.5"
  }
 },
 "nbformat": 4,
 "nbformat_minor": 4
}
